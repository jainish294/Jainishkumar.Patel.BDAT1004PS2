{
 "cells": [
  {
   "cell_type": "markdown",
   "id": "8fbe22ec-ec50-472b-98e9-d338a9687cde",
   "metadata": {},
   "source": [
    "Question 1\n",
    "Consider the following Python module:\n",
    "a = 0 def b():\n",
    "global a\n",
    "a = c(a)\n",
    "def c(a):\n",
    "return a + 2\n",
    "After importing the module into the interpreter, you execute:\n",
    ">>> b()\n",
    ">>> b()\n",
    ">>> b()\n",
    ">>> a\n",
    "?\n",
    "What value is displayed when the last expression (a) is evaluated? Explain your answer by indicating what happens in every executed statement."
   ]
  },
  {
   "cell_type": "code",
   "execution_count": 1,
   "id": "ea2153ee-4c67-4971-b0fa-76c0816ca537",
   "metadata": {},
   "outputs": [
    {
     "name": "stdout",
     "output_type": "stream",
     "text": [
      "2\n",
      "4\n",
      "6\n",
      "6\n"
     ]
    }
   ],
   "source": [
    "a=0 \n",
    "\n",
    "def b():\n",
    "    global a\n",
    "    a = c(a)\n",
    "    return a\n",
    "\n",
    "def c(a):\n",
    "    return a + 2\n",
    "\n",
    "print(b())\n",
    "print(b())\n",
    "print(b())\n",
    "print(a)"
   ]
  },
  {
   "cell_type": "markdown",
   "id": "b3605228-de8e-457e-9c40-57d580facd61",
   "metadata": {},
   "source": [
    "a = 0: Initializes the global variable a.\n",
    "Function b():\n",
    "Declares a as a global variable and modifies its value by calling c(a).\n",
    "Function c(a):\n",
    "Adds 2 to the passed value of a and returns it.\n",
    "After calling b() three times, the final value of a will be 6, which is printed at the end."
   ]
  },
  {
   "cell_type": "markdown",
   "id": "a5959023-8b57-4c51-ab7b-be57362e05a7",
   "metadata": {},
   "source": [
    "Question 2\r\n",
    "Function fileLength(), given to you, takes the name of a file as input and returns the length of the file:\r\n",
    ">>> fileLength('midterm.py') 284\r\n",
    ">>> fileLength('idterm.py') Traceback (most recent call last):\r\n",
    "File \"<pyshell#34>\", line 1, in <module> fileLength('idterm.py')\r\n",
    "File \"/Users/me/midterm.py\", line 3, in fileLength infile = open(filename)\r\n",
    "FileNotFoundError: [Errno 2] No such file or directory: 'idte\n",
    "rm.py'\r\n",
    "As shown above, if the file cannot be found by the interpreter or if it cannot be read as a text file, an exception will be raised. Modify function fileLength() so that a friendly message is printed instead:\r\n",
    ">>> fileLength('midterm.py') 358\r\n",
    ">>> fileLength('idterm.py') File idterm.py not found."
   ]
  },
  {
   "cell_type": "code",
   "execution_count": 6,
   "id": "b29ae6b8-4be5-4232-b16b-7df4b4766016",
   "metadata": {},
   "outputs": [],
   "source": [
    "def fileLength(filename):\n",
    "    try:\n",
    "        with open(filename, 'r') as infile:  # Using 'with' to ensure the file is properly closed\n",
    "            contents = infile.read()\n",
    "            return len(contents)\n",
    "    except FileNotFoundError:\n",
    "        print(f\"File {filename} not found.\")\n"
   ]
  },
  {
   "cell_type": "code",
   "execution_count": 13,
   "id": "7e9c5435-3110-47e9-9636-1ef206dcdff4",
   "metadata": {},
   "outputs": [
    {
     "data": {
      "text/plain": [
       "477"
      ]
     },
     "execution_count": 13,
     "metadata": {},
     "output_type": "execute_result"
    }
   ],
   "source": [
    "fileLength('currencies.txt')"
   ]
  },
  {
   "cell_type": "code",
   "execution_count": 15,
   "id": "211f9dff-bf2e-4fdf-bf35-bd3ec8cebf7a",
   "metadata": {},
   "outputs": [
    {
     "name": "stdout",
     "output_type": "stream",
     "text": [
      "File idterm.py not found.\n"
     ]
    }
   ],
   "source": [
    "fileLength(\"idterm.py\")"
   ]
  },
  {
   "cell_type": "markdown",
   "id": "5417f17f-869a-49aa-bbae-f15aa0d6aed8",
   "metadata": {},
   "source": [
    "Write a class named Marsupial that can be used as shown below:\n",
    ">>> m = Marsupial()\n",
    ">>> m.put_in_pouch('doll')\n",
    ">>> m.put_in_pouch('firetruck')\n",
    ">>> m.put_in_pouch('kitten')\n",
    ">>> m.pouch_contents() ['doll', 'firetruck', 'kitten']\n",
    "Now write a class named Kangaroo as a subclass of Marsupial that inherits all the attributes of Marsupial and also:\r\n",
    "a. extends the Marsupial __init__ constructor to take, as input, the\r\n",
    "coordinates x and y of the Kangaroo object,\r\n",
    "b. supports method jump that takes number values dx and dy as input and moves the kangaroo by dx units along the x-axis and by dy units along the y- axis, and\r\n",
    "c. overloads the __str__ operator so it behaves as shown below.\r\n",
    ">>> k = Kangaroo(0,0)\r\n",
    ">>> print(k)\r\n",
    "I am a Kangaroo located at coordinates (0,0)\r\n",
    ">>> k.put_in_pouch('doll')\r\n",
    ">>> k.put_in_pouch('firetruck')\r\n",
    ">>> k.put_in_pouch('kitten')\r\n",
    ">>> k.pouch_contents() ['doll', 'firetruck', 'kitten']\r\n",
    ">>> k.jump(1,0)\r\n",
    ">>> k.jump(1,0)\r\n",
    ">>> k.jump(1,0)\r\n",
    ">>> print(k)\r\n",
    "I am a Kangaroo located at coordinates (3,0)"
   ]
  },
  {
   "cell_type": "code",
   "execution_count": 37,
   "id": "de2cfb2e-6aa6-4b69-a922-31efe37055df",
   "metadata": {},
   "outputs": [
    {
     "name": "stdout",
     "output_type": "stream",
     "text": [
      "['doll', 'firetruck', 'kitten']\n",
      "I am a Kangaroo located at coordinates (0,0)\n",
      "['doll', 'firetruck', 'kitten']\n",
      "I am a Kangaroo located at coordinates (3,0)\n"
     ]
    }
   ],
   "source": [
    "# Marsupial class\n",
    "class Marsupial:\n",
    "    def __init__(self):\n",
    "        self.pouch = []\n",
    "    \n",
    "    def put_in_pouch(self, item):\n",
    "        self.pouch.append(item)\n",
    "    \n",
    "    def pouch_contents(self):\n",
    "        return self.pouch\n",
    "\n",
    "class Kangaroo(Marsupial):\n",
    "    def __init__(self, x, y):\n",
    "        super().__init__()\n",
    "        self.x = x\n",
    "        self.y = y\n",
    "    \n",
    "    def jump(self, dx, dy):\n",
    "        self.x += dx\n",
    "        self.y += dy\n",
    "    \n",
    "    def __str__(self):\n",
    "        return f'I am a Kangaroo located at coordinates ({self.x},{self.y})'\n",
    "\n",
    "m = Marsupial()\n",
    "m.put_in_pouch('doll')\n",
    "m.put_in_pouch('firetruck')\n",
    "m.put_in_pouch('kitten')\n",
    "print(m.pouch_contents())  # Output: ['doll', 'firetruck', 'kitten']\n",
    "\n",
    "k = Kangaroo(0, 0)\n",
    "print(k) \n",
    "k.put_in_pouch('doll')\n",
    "k.put_in_pouch('firetruck')\n",
    "k.put_in_pouch('kitten')\n",
    "print(k.pouch_contents())  # Output: ['doll', 'firetruck', 'kitten']\n",
    "\n",
    "k.jump(1, 0)\n",
    "k.jump(1, 0)\n",
    "k.jump(1, 0)\n",
    "print(k)\n"
   ]
  },
  {
   "cell_type": "markdown",
   "id": "9825f6e2-e2ff-4d33-ac0b-695984cf8a95",
   "metadata": {},
   "source": [
    "Question 4\n",
    "Write function collatz() that takes a positive integer x as input and prints the Collatz sequence starting at x. A Collatz sequence is obtained by repeatedly applying this rule to the previous number x in the sequence:\n",
    "x = { 𝑥/2 𝑖𝑓 𝑥 𝑖𝑠 𝑒𝑣𝑒𝑛 3𝑥 + 1 𝑖𝑓 𝑥 𝑖𝑠 𝑜𝑑𝑑\n",
    "Your function should stop when the sequence gets to number 1. Your implementation must be recursive, without any loops.\n",
    ">>> collatz(1) 1\r\n",
    ">>> collatz(10) 10\r\n",
    "5\r\n",
    "16\r\n",
    "8\r\n",
    "4\r\n",
    "2\r\n",
    "1"
   ]
  },
  {
   "cell_type": "code",
   "execution_count": 55,
   "id": "ee836027-c8f4-4aba-b615-2e1a983ce6e3",
   "metadata": {},
   "outputs": [],
   "source": [
    "def collatz(x):\n",
    "    print(x)\n",
    "    if x == 1:\n",
    "        return\n",
    "    elif x % 2 == 0:\n",
    "        collatz(x // 2)\n",
    "    else:\n",
    "        collatz(3 * x + 1)\n"
   ]
  },
  {
   "cell_type": "code",
   "execution_count": 61,
   "id": "18678006-4fef-4c9f-b8ad-9721ce36c0bf",
   "metadata": {},
   "outputs": [
    {
     "name": "stdout",
     "output_type": "stream",
     "text": [
      "1\n"
     ]
    }
   ],
   "source": [
    "collatz(1)"
   ]
  },
  {
   "cell_type": "code",
   "execution_count": 63,
   "id": "802de128-3951-4b08-84ef-d77a6b4e9c81",
   "metadata": {},
   "outputs": [
    {
     "name": "stdout",
     "output_type": "stream",
     "text": [
      "10\n",
      "5\n",
      "16\n",
      "8\n",
      "4\n",
      "2\n",
      "1\n"
     ]
    }
   ],
   "source": [
    "collatz(10)"
   ]
  },
  {
   "cell_type": "code",
   "execution_count": null,
   "id": "416bfc43-8752-4de4-a10d-5532cb47ce03",
   "metadata": {},
   "outputs": [],
   "source": [
    "Write a recursive method binary() that takes a non-negative integer n and prints the binary representation of integer n.\n",
    ">>> binary(0) 0\n",
    ">>> binary(1) 1\n",
    ">>> binary(3) 11\n",
    ">>> binary(9) 1001"
   ]
  },
  {
   "cell_type": "code",
   "execution_count": 65,
   "id": "9c489118-2924-4dbe-91ed-d4bf6e7f5d1a",
   "metadata": {},
   "outputs": [],
   "source": [
    "def binary(n):\n",
    "    if n < 2:\n",
    "        print(n, end='')\n",
    "    else:\n",
    "        binary(n // 2)\n",
    "        print(n % 2, end='')\n"
   ]
  },
  {
   "cell_type": "code",
   "execution_count": 67,
   "id": "e8ef5716-1e91-427c-9483-19df4f507a73",
   "metadata": {},
   "outputs": [
    {
     "name": "stdout",
     "output_type": "stream",
     "text": [
      "0"
     ]
    }
   ],
   "source": [
    "binary(0)"
   ]
  },
  {
   "cell_type": "code",
   "execution_count": 69,
   "id": "5786b01b-1e03-48b5-b8a2-5063b56ded6c",
   "metadata": {},
   "outputs": [
    {
     "name": "stdout",
     "output_type": "stream",
     "text": [
      "1"
     ]
    }
   ],
   "source": [
    "binary(1)"
   ]
  },
  {
   "cell_type": "code",
   "execution_count": 71,
   "id": "24c520b2-942d-4196-8cc3-7d6f93550fc9",
   "metadata": {},
   "outputs": [
    {
     "name": "stdout",
     "output_type": "stream",
     "text": [
      "11"
     ]
    }
   ],
   "source": [
    "binary(3)"
   ]
  },
  {
   "cell_type": "code",
   "execution_count": 73,
   "id": "d0693cd6-4d7c-4c04-9472-0fb3d685158c",
   "metadata": {},
   "outputs": [
    {
     "name": "stdout",
     "output_type": "stream",
     "text": [
      "1001"
     ]
    }
   ],
   "source": [
    "binary(9)"
   ]
  },
  {
   "cell_type": "markdown",
   "id": "ae56e333-ae75-4d62-bf5a-f60bc51b315c",
   "metadata": {},
   "source": [
    "Question 6\r\n",
    "Implement a class named HeadingParser that can be used to parse an HTML document, and retrieve and print all the headings in the document. You should implement your class as a subclass of HTMLParser, defined in Standard Library module html.parser. When fed a string containing HTML code, your class should print the headings, one per line and in the order in which they appear in the document. Each heading should be indented as follows: an h1 heading should havindentation 0, and h2 heading should have indentation 1, etc. Test your implementation using w3c.html.\r\n",
    ">>> infile = open('w3c.html')\r\n",
    ">>> content = infile.read()\r\n",
    ">>> infile.close()\r\n",
    ">>> hp = HeadingParser()\r\n",
    ">>> hp.feed(content) W3C Mission Principlese"
   ]
  },
  {
   "cell_type": "code",
   "execution_count": 75,
   "id": "9de4b36b-f4dd-4afe-a80e-3a7c7dffb84f",
   "metadata": {},
   "outputs": [
    {
     "name": "stdout",
     "output_type": "stream",
     "text": [
      "W3C Mission\n",
      "\tPrinciples\n"
     ]
    }
   ],
   "source": [
    "\n",
    "from html.parser import HTMLParser\n",
    "\n",
    "class HeadingParser(HTMLParser):\n",
    "    flag = False\n",
    "    indetation_value = 0\n",
    "\n",
    "    def handle_starttag(self, tag, attrs):  \n",
    "        if tag == \"h1\":  \n",
    "            self.flag = True \n",
    "            self.indetation_value = 0\n",
    "\n",
    "        elif tag == \"h2\":\n",
    "            self.flag = True\n",
    "            self.indetation_value = 1\n",
    "        elif tag == \"h3\":\n",
    "            self.flag = True\n",
    "            self.indetation_value = 2\n",
    "        elif tag == \"h4\":\n",
    "            self.flag = True\n",
    "            self.indetation_value = 3\n",
    "        elif tag == \"h5\":\n",
    "            self.flag = True\n",
    "            self.indetation_value = 4\n",
    "        elif tag == \"h6\":\n",
    "            self.flag = True\n",
    "            self.indetation_value = 5\n",
    "\n",
    "\n",
    "    def handle_data(self, data):  \n",
    "        if self.flag:\n",
    "            print (self.indetation_value*\"\\t\"+data)\n",
    "\n",
    "    def handle_endtag(self, tag):  \n",
    "        if tag == \"h1\":  \n",
    "            self.flag = False\n",
    "        elif tag == \"h2\":\n",
    "            self.flag = False\n",
    "        elif tag == \"h3\":\n",
    "            self.flag = False\n",
    "        elif tag == \"h4\":\n",
    "            self.flag = False\n",
    "        elif tag == \"h5\":\n",
    "            self.flag = False\n",
    "        elif tag == \"h6\":\n",
    "            self.flag = False\n",
    "\n",
    "infile = open('w3c.html')\n",
    "content = infile.read()\n",
    "infile.close()\n",
    "hp = HeadingParser()\n",
    "hp.feed(content)"
   ]
  },
  {
   "cell_type": "markdown",
   "id": "81ae1be8-2d51-470d-a464-fd4fb62cb178",
   "metadata": {},
   "source": [
    "Question 7\n",
    "Implement recursive function webdir() that takes as input: a URL (as a string) and non-negative integers depth and indent. Your function should visit every web page reachable from the starting URL web page in depth clicks or less, and print each web page's URL. As shown below, indentation, specified by indent, should be used to indicate the depth of a URL.\n",
    ">>>\n",
    "webdir('http://reed.cs.depaul.edu/lperkovic/csc242/test1.html'\n",
    ", 2, 0)\n",
    "http://reed.cs.depaul.edu/lperkovic/csc242/test1.html http://reed.cs.depaul.edu/lperkovic/csc242/test2.html\n",
    "http://reed.cs.depaul.edu/lperkovic/csc242/test4.html http://reed.cs.depaul.edu/lperkovic/csc242/test3.html\n",
    "http://reed.cs.depaul.edu/lperkovic/csc242/test4.html"
   ]
  },
  {
   "cell_type": "code",
   "execution_count": 308,
   "id": "07b36f9c-529a-4da3-a88f-ac0a19e09753",
   "metadata": {},
   "outputs": [
    {
     "name": "stdout",
     "output_type": "stream",
     "text": [
      "http://reed.cs.depaul.edu/lperkovic/csc242/test1.html\n"
     ]
    }
   ],
   "source": [
    "import requests\n",
    "from bs4 import BeautifulSoup\n",
    "\n",
    "def webdir(url, depth, indent):\n",
    "    if depth < 0:\n",
    "        return\n",
    "\n",
    "    print(' ' * indent + url)\n",
    "\n",
    "    if depth > 0:\n",
    "        try:\n",
    "            response = requests.get(url)\n",
    "            soup = BeautifulSoup(response.text, 'html.parser')\n",
    "\n",
    "            for link in soup.find_all('a', href=True):\n",
    "                next_url = link['href']\n",
    "                if not next_url.startswith('http'):\n",
    "                    next_url = requests.compat.urljoin(url, next_url)\n",
    "                webdir(next_url, depth - 1, indent + 4)\n",
    "\n",
    "        except Exception as e:\n",
    "            print(' ' * indent + f'Error: {e}')\n",
    "\n",
    "if __name__ == \"__main__\":\n",
    "    webdir('http://reed.cs.depaul.edu/lperkovic/csc242/test1.html', 2, 0)\n"
   ]
  },
  {
   "cell_type": "markdown",
   "id": "b34f84d1-f1e5-4549-8242-6bc2f6ebccd8",
   "metadata": {},
   "source": [
    "Write SQL queries on the below database table that return:\r\n",
    "a) All the temperature data.\r\n",
    "b) All the cities, but without repetition.\r\n",
    "c) All the records for India.\r\n",
    "d) All the Fall reco\n",
    "e) The ds."
   ]
  },
  {
   "cell_type": "markdown",
   "id": "e610195d-b212-4dc7-b197-80406bc60a58",
   "metadata": {},
   "source": [
    "Reffered https://medium.com/@tattwei46/how-to-use-python-with-mysql-79304bee8753 for connecting mysql with jupyter notebook."
   ]
  },
  {
   "cell_type": "code",
   "execution_count": 387,
   "id": "2321b81a-7f61-4429-8159-f2c6808a66b2",
   "metadata": {},
   "outputs": [
    {
     "name": "stdout",
     "output_type": "stream",
     "text": [
      "12 record(s) inserted.\n"
     ]
    }
   ],
   "source": [
    "import sqlite3\n",
    "\n",
    "# Connect to a SQLite database (or create one if it doesn't exist)\n",
    "conn = sqlite3.connect('W_Data.db')\n",
    "\n",
    "# Create a cursor object\n",
    "cursor = conn.cursor()\n",
    "\n",
    "# Step 1: Create the WeatherData table\n",
    "cursor.execute('''\n",
    "CREATE TABLE IF NOT EXISTS W_data (\n",
    "    City TEXT,\n",
    "    Country TEXT,\n",
    "    Season TEXT,\n",
    "    Temperature REAL,\n",
    "    Rainfall REAL\n",
    ");\n",
    "''')\n",
    "\n",
    "# Step 2: Insert the data\n",
    "cursor.executemany('''\n",
    "INSERT INTO W_data (City, Country, Season, Temperature, Rainfall) VALUES (?, ?, ?, ?, ?);\n",
    "''', [\n",
    "    ('Mumbai', 'India', 'Winter', 24.8, 5.9),\n",
    "    ('Mumbai', 'India', 'Spring', 28.4, 16.2),\n",
    "    ('Mumbai', 'India', 'Summer', 27.9, 1549.4),\n",
    "    ('Mumbai', 'India', 'Fall', 27.6, 346.0),\n",
    "    ('London', 'United Kingdom', 'Winter', 4.2, 207.7),\n",
    "    ('London', 'United Kingdom', 'Spring', 8.3, 169.6),\n",
    "    ('London', 'United Kingdom', 'Summer', 15.7, 157.0),\n",
    "    ('London', 'United Kingdom', 'Fall', 10.4, 218.5),\n",
    "    ('Cairo', 'Egypt', 'Winter', 13.6, 16.5),\n",
    "    ('Cairo', 'Egypt', 'Spring', 20.7, 6.5),\n",
    "    ('Cairo', 'Egypt', 'Summer', 27.7, 0.1),\n",
    "    ('Cairo', 'Egypt', 'Fall', 22.2, 4.5)\n",
    "])\n",
    "\n",
    "# Commit the changes\n",
    "conn.commit()\n",
    "\n",
    "print(cursor.rowcount, \"record(s) inserted.\")\n"
   ]
  },
  {
   "cell_type": "markdown",
   "id": "707d4ada-850d-4ce0-b381-ef2811edaff3",
   "metadata": {},
   "source": [
    "a) All the temperature data."
   ]
  },
  {
   "cell_type": "code",
   "execution_count": 409,
   "id": "409f97fb-fbd5-4bfb-b933-923389ee199b",
   "metadata": {},
   "outputs": [
    {
     "name": "stdout",
     "output_type": "stream",
     "text": [
      "All Temperature Data: [(24.8,), (28.4,), (27.9,), (27.6,), (4.2,), (8.3,), (15.7,), (10.4,), (13.6,), (20.7,), (27.7,), (22.2,)]\n"
     ]
    }
   ],
   "source": [
    "cursor.execute('SELECT Temperature FROM W_data;')\n",
    "temperatures = cursor.fetchall()\n",
    "print(\"All Temperature Data:\", temperatures)"
   ]
  },
  {
   "cell_type": "markdown",
   "id": "2dd6624e-97d6-468d-bbf8-eb9fbbe44ff9",
   "metadata": {},
   "source": [
    "b) All the cities, but without repetition"
   ]
  },
  {
   "cell_type": "code",
   "execution_count": 393,
   "id": "161435a8-706f-4bdb-afd1-49ae48c6926b",
   "metadata": {},
   "outputs": [
    {
     "name": "stdout",
     "output_type": "stream",
     "text": [
      "Distinct Cities:\n",
      " [('Mumbai',), ('London',), ('Cairo',)]\n"
     ]
    }
   ],
   "source": [
    "cursor.execute('SELECT DISTINCT City FROM W_data;')\n",
    "cities = cursor.fetchall()\n",
    "print(\"Distinct Cities:\\n\", cities)"
   ]
  },
  {
   "cell_type": "markdown",
   "id": "0133ee68-a799-47ea-864f-21d9a853b865",
   "metadata": {},
   "source": [
    "All the records for India"
   ]
  },
  {
   "cell_type": "code",
   "execution_count": 395,
   "id": "e602f18f-9e2e-4903-b912-253ae3138aeb",
   "metadata": {},
   "outputs": [
    {
     "name": "stdout",
     "output_type": "stream",
     "text": [
      "Records for India: [('Mumbai', 'India', 'Winter', 24.8, 5.9), ('Mumbai', 'India', 'Spring', 28.4, 16.2), ('Mumbai', 'India', 'Summer', 27.9, 1549.4), ('Mumbai', 'India', 'Fall', 27.6, 346.0)]\n"
     ]
    }
   ],
   "source": [
    "cursor.execute('SELECT * FROM W_data WHERE Country = \"India\";')\n",
    "india_records = cursor.fetchall()\n",
    "print(\"Records for India:\", india_records)"
   ]
  },
  {
   "cell_type": "markdown",
   "id": "86490e0e-0993-409b-833a-289e069bd60a",
   "metadata": {},
   "source": [
    "d) All the Fall records"
   ]
  },
  {
   "cell_type": "code",
   "execution_count": 397,
   "id": "d5239351-358f-4f57-ac54-04fe8a732c44",
   "metadata": {},
   "outputs": [
    {
     "name": "stdout",
     "output_type": "stream",
     "text": [
      "Fall Records: [('Mumbai', 'India', 'Fall', 27.6, 346.0), ('London', 'United Kingdom', 'Fall', 10.4, 218.5), ('Cairo', 'Egypt', 'Fall', 22.2, 4.5)]\n"
     ]
    }
   ],
   "source": [
    "cursor.execute('SELECT * FROM W_data WHERE Season = \"Fall\";')\n",
    "fall_records = cursor.fetchall()\n",
    "print(\"Fall Records:\", fall_records)"
   ]
  },
  {
   "cell_type": "markdown",
   "id": "f4617b53-6a09-42ae-afeb-53dcaf5929c5",
   "metadata": {},
   "source": [
    " e) City, country, and season for average rainfall between 200 and 400 millimeters"
   ]
  },
  {
   "cell_type": "code",
   "execution_count": 399,
   "id": "1e019435-0cd4-4009-88cb-71e3bd003165",
   "metadata": {},
   "outputs": [
    {
     "name": "stdout",
     "output_type": "stream",
     "text": [
      "Average Rainfall Between 200 and 400 mm: [('London', 'United Kingdom', 'Fall'), ('London', 'United Kingdom', 'Winter'), ('Mumbai', 'India', 'Fall')]\n"
     ]
    }
   ],
   "source": [
    "cursor.execute('''\n",
    "SELECT City, Country, Season \n",
    "FROM W_data \n",
    "GROUP BY City, Country, Season \n",
    "HAVING AVG(Rainfall) BETWEEN 200 AND 400;\n",
    "''')\n",
    "avg_rainfall_records = cursor.fetchall()\n",
    "print(\"Average Rainfall Between 200 and 400 mm:\", avg_rainfall_records)\n"
   ]
  },
  {
   "cell_type": "markdown",
   "id": "3626a2d7-f62e-4a13-8ed1-54c50a7c8dac",
   "metadata": {},
   "source": [
    "City and country for average Fall temperature above 20 degrees"
   ]
  },
  {
   "cell_type": "code",
   "execution_count": 401,
   "id": "faadda9d-1a52-4eb2-a65a-6db3fec13000",
   "metadata": {},
   "outputs": [
    {
     "name": "stdout",
     "output_type": "stream",
     "text": [
      "City and Country for Average Fall Temp Above 20: [('Cairo', 'Egypt'), ('Mumbai', 'India')]\n"
     ]
    }
   ],
   "source": [
    "cursor.execute('''\n",
    "SELECT City, Country \n",
    "FROM W_data \n",
    "WHERE Season = \"Fall\" \n",
    "GROUP BY City, Country \n",
    "HAVING AVG(Temperature) > 20 \n",
    "ORDER BY AVG(Temperature) ASC;\n",
    "''')\n",
    "avg_fall_temp_records = cursor.fetchall()\n",
    "print(\"City and Country for Average Fall Temp Above 20:\", avg_fall_temp_records)"
   ]
  },
  {
   "cell_type": "markdown",
   "id": "01ba9238-f0aa-4bc3-898d-cedf28aa57af",
   "metadata": {},
   "source": [
    "g) Total annual rainfall for Cairo"
   ]
  },
  {
   "cell_type": "code",
   "execution_count": 403,
   "id": "e0736445-cca4-48cc-9c72-cdb6f30e88d5",
   "metadata": {},
   "outputs": [
    {
     "name": "stdout",
     "output_type": "stream",
     "text": [
      "Total Annual Rainfall for Cairo: (27.6,)\n"
     ]
    }
   ],
   "source": [
    "cursor.execute('SELECT SUM(Rainfall) AS Total_Annual_Rainfall FROM W_data WHERE City = \"Cairo\";')\n",
    "cairo_rainfall = cursor.fetchone()\n",
    "print(\"Total Annual Rainfall for Cairo:\", cairo_rainfall)\n"
   ]
  },
  {
   "cell_type": "markdown",
   "id": "28d2a9b7-ca7d-4a95-8cdb-a744d1794e1d",
   "metadata": {},
   "source": [
    "h) Total rainfall for each season"
   ]
  },
  {
   "cell_type": "code",
   "execution_count": 405,
   "id": "a8dc5726-e615-4c84-ab42-144456eaaa34",
   "metadata": {},
   "outputs": [
    {
     "name": "stdout",
     "output_type": "stream",
     "text": [
      "Total Rainfall for Each Season: [('Fall', 569.0), ('Spring', 192.29999999999998), ('Summer', 1706.5), ('Winter', 230.1)]\n"
     ]
    }
   ],
   "source": [
    "cursor.execute('SELECT Season, SUM(Rainfall) AS Total_Rainfall FROM W_data GROUP BY Season;')\n",
    "seasonal_rainfall = cursor.fetchall()\n",
    "print(f\"Total Rainfall for Each Season:\", seasonal_rainfall)"
   ]
  },
  {
   "cell_type": "markdown",
   "id": "e7fa5860-ab3f-4706-ab05-4530eff6e305",
   "metadata": {},
   "source": [
    "Question 9\n",
    ". Suppose list words is defined as follows:\n",
    ">>> words = ['The', 'quick', 'brown', 'fox', 'jumps', 'over', 'the', 'lazy', 'dog']\n",
    "Write list comprehension expressions that use list words and generate the following lists:\n",
    "a) ['THE', 'QUICK', 'BROWN', 'FOX', 'JUMPS', 'OVER', 'THE', 'LAZY', 'DOG']\n",
    "b) ['the', 'quick', 'brown', 'fox', 'jumps', 'over', 'the', 'lazy', 'dog']\n",
    "c) [3, 5, 5, 3, 5, 4, 3, 4, 3] (the list of lengths of words in list\n",
    "words).\n",
    "d) [['THE', 'the', 3], ['QUICK', 'quick', 5], ['BROWN',\n",
    "'brown', 5], ['FOX', 'fox', 3], ['JUMPS', 'jumps', 5],\n",
    "['OVER', 'over', 4], ['THE', 'the', 3], ['LAZY', 'lazy',\n",
    "4], ['DOG', 'dog', 3]] (the list containing a list for every word of list words, where each list contains the word in uppercase and lowercase and the length of the word.)\n",
    "e) ['The', 'quick', 'brown', 'fox', 'jumps', 'over', 'the', 'lazy', 'dog'] (the list of words in list words containing 4 or more characters.)"
   ]
  },
  {
   "cell_type": "code",
   "execution_count": 359,
   "id": "e13663dc-1c20-4615-8021-1ab78148a38a",
   "metadata": {},
   "outputs": [
    {
     "name": "stdout",
     "output_type": "stream",
     "text": [
      "['THE', 'QUICK', 'BROWN', 'FOX', 'JUMPS', 'OVER', 'THE', 'LAZY', 'DOG']\n",
      "['the', 'quick', 'brown', 'fox', 'jumps', 'over', 'the', 'lazy', 'dog']\n",
      "[3, 5, 5, 3, 5, 4, 3, 4, 3]\n",
      "[['THE', 'the', 3], ['QUICK', 'quick', 5], ['BROWN', 'brown', 5], ['FOX', 'fox', 3], ['JUMPS', 'jumps', 5], ['OVER', 'over', 4], ['THE', 'the', 3], ['LAZY', 'lazy', 4], ['DOG', 'dog', 3]]\n",
      "['quick', 'brown', 'jumps', 'over', 'lazy']\n"
     ]
    }
   ],
   "source": [
    "words = ['The', 'quick', 'brown', 'fox', 'jumps', 'over', 'the', 'lazy', 'dog']\n",
    "\n",
    "upper_words = [word.upper() for word in words]\n",
    "print(upper_words)\n",
    "\n",
    "lower_words = [word.lower() for word in words]\n",
    "print(lower_words)\n",
    "\n",
    "lengths = [len(word) for word in words]\n",
    "print(lengths)\n",
    "\n",
    "word_details = [[word.upper(), word.lower(), len(word)] for word in words]\n",
    "print(word_details)\n",
    "\n",
    "long_words = [word for word in words if len(word) >= 4]\n",
    "print(long_words)\n"
   ]
  }
 ],
 "metadata": {
  "kernelspec": {
   "display_name": "Python 3 (ipykernel)",
   "language": "python",
   "name": "python3"
  },
  "language_info": {
   "codemirror_mode": {
    "name": "ipython",
    "version": 3
   },
   "file_extension": ".py",
   "mimetype": "text/x-python",
   "name": "python",
   "nbconvert_exporter": "python",
   "pygments_lexer": "ipython3",
   "version": "3.12.4"
  }
 },
 "nbformat": 4,
 "nbformat_minor": 5
}
